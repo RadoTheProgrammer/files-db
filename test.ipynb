{
 "cells": [
  {
   "cell_type": "code",
   "execution_count": 1,
   "metadata": {},
   "outputs": [],
   "source": [
    "import pandas as pd"
   ]
  },
  {
   "cell_type": "code",
   "execution_count": 74,
   "metadata": {},
   "outputs": [
    {
     "name": "stdout",
     "output_type": "stream",
     "text": [
      "   a  b                   c\n",
      "0 -1  a 2025-02-07 22:02:17\n",
      "a             int64\n",
      "b            object\n",
      "c    datetime64[ns]\n",
      "dtype: object\n"
     ]
    },
    {
     "data": {
      "text/plain": [
       "Index    132\n",
       "a          8\n",
       "b         58\n",
       "c          8\n",
       "dtype: int64"
      ]
     },
     "execution_count": 74,
     "metadata": {},
     "output_type": "execute_result"
    }
   ],
   "source": [
    "df=pd.DataFrame({\"a\":[-1],\"b\":[\"a\"],\"c\":pd.to_datetime(\"2025-02-07 22:02:17\")})\n",
    "print(df)\n",
    "print(df.dtypes)\n",
    "df.memory_usage(deep=True)\n",
    "\n"
   ]
  },
  {
   "cell_type": "code",
   "execution_count": 76,
   "metadata": {},
   "outputs": [
    {
     "name": "stdout",
     "output_type": "stream",
     "text": [
      "a            uint64\n",
      "b    string[python]\n",
      "c    datetime64[ms]\n",
      "dtype: object\n",
      "Index    132\n",
      "a          8\n",
      "b         58\n",
      "c          8\n",
      "dtype: int64\n",
      "                      a  b                   c\n",
      "0  18446744073709551615  a 2025-02-07 22:02:17\n"
     ]
    }
   ],
   "source": [
    "df2=df.astype({\"a\":\"uint64\",\"b\":\"string\",\"c\":\"datetime64[ms]\"}) #possibles values of int: int8, int16, int32, int64\n",
    "print(df2.dtypes)\n",
    "print(df2.memory_usage(deep=True))\n",
    "print(df2)\n"
   ]
  },
  {
   "cell_type": "markdown",
   "metadata": {},
   "source": [
    "uint16: 0 à 2**16-1\n",
    "\n",
    "uint32: 0 à 2**32-1\n",
    "\n",
    "uint64: 0 à 2**64-1\n",
    "\n",
    "int64: -2^63 à 2^63-1"
   ]
  },
  {
   "cell_type": "code",
   "execution_count": null,
   "metadata": {},
   "outputs": [
    {
     "name": "stdout",
     "output_type": "stream",
     "text": [
      "2**8 = 256\n",
      "2**16 = 65536\n",
      "2**32 = 4294967296\n",
      "2**64 = 18446744073709551616\n"
     ]
    }
   ],
   "source": [
    "for exp in (8,16,32,64):\n",
    "    print(f\"2**{exp} = {2**exp}\")\n",
    "    \n",
    "\"\"\"\n",
    "name: object/string (same size) 8\n",
    "size: int64                     8\n",
    "\"\"\""
   ]
  },
  {
   "cell_type": "code",
   "execution_count": null,
   "metadata": {},
   "outputs": [
    {
     "data": {
      "text/plain": [
       "Index     8\n",
       "a         8\n",
       "b        60\n",
       "dtype: int64"
      ]
     },
     "execution_count": 16,
     "metadata": {},
     "output_type": "execute_result"
    }
   ],
   "source": [
    "df3=pd.DataFrame(columns=(\"a\",\"b\"))\n",
    "df3.loc[0]=[23,\"CDs\"]\n",
    "df3.memory_usage(deep=True)\n",
    "\"\"\"\n",
    "wtf, index takes less place when doing this than the first one\n",
    "\"\"\""
   ]
  },
  {
   "cell_type": "code",
   "execution_count": 80,
   "metadata": {},
   "outputs": [
    {
     "data": {
      "text/plain": [
       "49"
      ]
     },
     "execution_count": 80,
     "metadata": {},
     "output_type": "execute_result"
    }
   ],
   "source": [
    "import sys\n",
    "sys.getsizeof(\"\")"
   ]
  },
  {
   "cell_type": "code",
   "execution_count": null,
   "metadata": {},
   "outputs": [
    {
     "name": "stdout",
     "output_type": "stream",
     "text": [
      "In dataframe 45\n",
      "In POO object/string for col name 149\n"
     ]
    }
   ],
   "source": [
    "a=8+8+4+8+8+8+1 # in the dataframe\n",
    "b=49+100\n",
    "print(\"In dataframe\",a)\n",
    "print(\"In POO object/string for col name\",b)\n",
    "\n",
    "\n",
    "\"\"\"\n",
    "Ok du coup ça me fait env 200 bytes par item\n",
    "200 * 250'000 = 5'000'000 bytes = 5 MB \n",
    "\"\"\""
   ]
  },
  {
   "cell_type": "code",
   "execution_count": 81,
   "metadata": {},
   "outputs": [
    {
     "data": {
      "text/plain": [
       "45"
      ]
     },
     "execution_count": 81,
     "metadata": {},
     "output_type": "execute_result"
    }
   ],
   "source": [
    "len(\"coding/files-timeline/timeline/2025-02-01.csv\")"
   ]
  },
  {
   "cell_type": "code",
   "execution_count": null,
   "metadata": {},
   "outputs": [
    {
     "name": "stdout",
     "output_type": "stream",
     "text": [
      "10000000049\n"
     ]
    },
    {
     "ename": "",
     "evalue": "",
     "output_type": "error",
     "traceback": [
      "\u001b[1;31mThe Kernel crashed while executing code in the current cell or a previous cell. \n",
      "\u001b[1;31mPlease review the code in the cell(s) to identify a possible cause of the failure. \n",
      "\u001b[1;31mClick <a href='https://aka.ms/vscodeJupyterKernelCrash'>here</a> for more info. \n",
      "\u001b[1;31mView Jupyter <a href='command:jupyter.viewOutput'>log</a> for further details."
     ]
    }
   ],
   "source": [
    "import sys\n",
    "\n",
    "\n",
    "# Example: Creating a string of 37.5 MB\n",
    "s=\"A\"*int(1e11)\n",
    "\n",
    "print(sys.getsizeof(s))\n"
   ]
  },
  {
   "cell_type": "code",
   "execution_count": 101,
   "metadata": {},
   "outputs": [],
   "source": [
    "with open(\"test.txt\",\"w\") as f:\n",
    "    f.write(s)"
   ]
  }
 ],
 "metadata": {
  "kernelspec": {
   "display_name": "Python 3",
   "language": "python",
   "name": "python3"
  },
  "language_info": {
   "codemirror_mode": {
    "name": "ipython",
    "version": 3
   },
   "file_extension": ".py",
   "mimetype": "text/x-python",
   "name": "python",
   "nbconvert_exporter": "python",
   "pygments_lexer": "ipython3",
   "version": "3.11.8"
  }
 },
 "nbformat": 4,
 "nbformat_minor": 2
}
