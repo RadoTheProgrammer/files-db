{
 "cells": [
  {
   "cell_type": "code",
   "execution_count": 2,
   "metadata": {},
   "outputs": [],
   "source": [
    "import pandas as pd"
   ]
  },
  {
   "cell_type": "code",
   "execution_count": 61,
   "metadata": {},
   "outputs": [
    {
     "name": "stdout",
     "output_type": "stream",
     "text": [
      "   a  b                    c\n",
      "0  3  a  2025-02-07 22:02:17\n",
      "a     int64\n",
      "b    object\n",
      "c    object\n",
      "dtype: object\n"
     ]
    },
    {
     "data": {
      "text/plain": [
       "Index    132\n",
       "a          8\n",
       "b         58\n",
       "c         76\n",
       "dtype: int64"
      ]
     },
     "execution_count": 61,
     "metadata": {},
     "output_type": "execute_result"
    }
   ],
   "source": [
    "class Int(int):pass\n",
    "\n",
    "df=pd.DataFrame({\"a\":[Int(3)],\"b\":[\"a\"],\"c\":\"2025-02-07 22:02:17\"})\n",
    "print(df)\n",
    "print(df.dtypes)\n",
    "df.memory_usage(deep=True)\n",
    "\n"
   ]
  },
  {
   "cell_type": "code",
   "execution_count": 31,
   "metadata": {},
   "outputs": [
    {
     "name": "stdout",
     "output_type": "stream",
     "text": [
      "a    float64\n",
      "b     object\n",
      "c     object\n",
      "dtype: object\n",
      "a            uint64\n",
      "b    string[python]\n",
      "c    datetime64[ms]\n",
      "dtype: object\n"
     ]
    }
   ],
   "source": [
    "df2=df.astype({\"a\":\"uint64\",\"b\":\"string\",\"c\":\"datetime64[ms]\"}) #possibles values of int: int8, int16, int32, int64\n",
    "# print(df2.dtypes)\n",
    "# print(df2.memory_usage(deep=True))\n",
    "# print(df2)\n",
    "df2.loc[1] = (0,\"a\",\"2025-02-07 22:02:20\")\n",
    "print(df2.dtypes)\n",
    "df2=df2.astype({\"a\":\"uint64\",\"b\":\"string\",\"c\":\"datetime64[ms]\"})\n",
    "print(df2.dtypes)\n"
   ]
  },
  {
   "cell_type": "code",
   "execution_count": 34,
   "metadata": {},
   "outputs": [
    {
     "name": "stdout",
     "output_type": "stream",
     "text": [
      "a    float64\n",
      "b     object\n",
      "c     object\n",
      "dtype: object\n"
     ]
    },
    {
     "data": {
      "text/html": [
       "<div>\n",
       "<style scoped>\n",
       "    .dataframe tbody tr th:only-of-type {\n",
       "        vertical-align: middle;\n",
       "    }\n",
       "\n",
       "    .dataframe tbody tr th {\n",
       "        vertical-align: top;\n",
       "    }\n",
       "\n",
       "    .dataframe thead th {\n",
       "        text-align: right;\n",
       "    }\n",
       "</style>\n",
       "<table border=\"1\" class=\"dataframe\">\n",
       "  <thead>\n",
       "    <tr style=\"text-align: right;\">\n",
       "      <th></th>\n",
       "      <th>a</th>\n",
       "      <th>b</th>\n",
       "      <th>c</th>\n",
       "    </tr>\n",
       "  </thead>\n",
       "  <tbody>\n",
       "    <tr>\n",
       "      <th>0</th>\n",
       "      <td>0.0</td>\n",
       "      <td>a</td>\n",
       "      <td>2025-02-07 22:02:17</td>\n",
       "    </tr>\n",
       "    <tr>\n",
       "      <th>1</th>\n",
       "      <td>0.0</td>\n",
       "      <td>a</td>\n",
       "      <td>2025-02-07 22:02:24</td>\n",
       "    </tr>\n",
       "    <tr>\n",
       "      <th>2</th>\n",
       "      <td>0.0</td>\n",
       "      <td>a</td>\n",
       "      <td>2025-02-07 22:02:24</td>\n",
       "    </tr>\n",
       "  </tbody>\n",
       "</table>\n",
       "</div>"
      ],
      "text/plain": [
       "     a  b                    c\n",
       "0  0.0  a  2025-02-07 22:02:17\n",
       "1  0.0  a  2025-02-07 22:02:24\n",
       "2  0.0  a  2025-02-07 22:02:24"
      ]
     },
     "execution_count": 34,
     "metadata": {},
     "output_type": "execute_result"
    }
   ],
   "source": [
    "df2.loc[2] = (0,\"a\",\"2025-02-07 22:02:24\")\n",
    "print(df2.dtypes)\n",
    "df2"
   ]
  },
  {
   "cell_type": "code",
   "execution_count": 23,
   "metadata": {},
   "outputs": [
    {
     "data": {
      "text/html": [
       "<div>\n",
       "<style scoped>\n",
       "    .dataframe tbody tr th:only-of-type {\n",
       "        vertical-align: middle;\n",
       "    }\n",
       "\n",
       "    .dataframe tbody tr th {\n",
       "        vertical-align: top;\n",
       "    }\n",
       "\n",
       "    .dataframe thead th {\n",
       "        text-align: right;\n",
       "    }\n",
       "</style>\n",
       "<table border=\"1\" class=\"dataframe\">\n",
       "  <thead>\n",
       "    <tr style=\"text-align: right;\">\n",
       "      <th></th>\n",
       "      <th>a</th>\n",
       "      <th>b</th>\n",
       "      <th>c</th>\n",
       "    </tr>\n",
       "  </thead>\n",
       "  <tbody>\n",
       "    <tr>\n",
       "      <th>0</th>\n",
       "      <td>1.844674e+19</td>\n",
       "      <td>a</td>\n",
       "      <td>2025-02-07 22:02:17</td>\n",
       "    </tr>\n",
       "    <tr>\n",
       "      <th>1</th>\n",
       "      <td>0.000000e+00</td>\n",
       "      <td>a</td>\n",
       "      <td>2025-02-07 22:02:20</td>\n",
       "    </tr>\n",
       "  </tbody>\n",
       "</table>\n",
       "</div>"
      ],
      "text/plain": [
       "              a  b                   c\n",
       "0  1.844674e+19  a 2025-02-07 22:02:17\n",
       "1  0.000000e+00  a 2025-02-07 22:02:20"
      ]
     },
     "execution_count": 23,
     "metadata": {},
     "output_type": "execute_result"
    }
   ],
   "source": [
    "df2 = df2.astype({\"c\":\"datetime64[ns]\"})\n",
    "df2"
   ]
  },
  {
   "cell_type": "code",
   "execution_count": 20,
   "metadata": {},
   "outputs": [
    {
     "data": {
      "text/plain": [
       "Timestamp('2025-02-07 22:02:20')"
      ]
     },
     "execution_count": 20,
     "metadata": {},
     "output_type": "execute_result"
    }
   ],
   "source": [
    "df2.loc[1].c"
   ]
  },
  {
   "cell_type": "code",
   "execution_count": 40,
   "metadata": {},
   "outputs": [
    {
     "data": {
      "text/plain": [
       "a    int64\n",
       "dtype: object"
      ]
     },
     "execution_count": 40,
     "metadata": {},
     "output_type": "execute_result"
    }
   ],
   "source": [
    "#df = pd.DataFrame(columns=(\"a\",)).astype({\"a\":\"int32\"})\n",
    "df = pd.DataFrame({\"a\":pd.Series(dtype=\"uint64\")})\n",
    "df.loc[0]=(2,)\n",
    "df.dtypes\n"
   ]
  },
  {
   "cell_type": "code",
   "execution_count": 46,
   "metadata": {},
   "outputs": [
    {
     "name": "stdout",
     "output_type": "stream",
     "text": [
      "id                   uint32\n",
      "name         string[python]\n",
      "age                   uint8\n",
      "salary              float64\n",
      "is_active              bool\n",
      "dtype: object\n",
      "Empty DataFrame\n",
      "Columns: [id, name, age, salary, is_active]\n",
      "Index: []\n"
     ]
    }
   ],
   "source": [
    "import pandas as pd\n",
    "\n",
    "# Define column names and data types\n",
    "column_dtypes = {\n",
    "    \"id\": \"uint32\",\n",
    "    \"name\": \"string\",\n",
    "    \"age\": \"uint8\",\n",
    "    \"salary\": \"float64\",\n",
    "    \"is_active\": \"bool\"\n",
    "}\n",
    "\n",
    "# Create an empty DataFrame with specified dtypes\n",
    "df = pd.DataFrame({col: pd.Series(dtype=dtype) for col, dtype in column_dtypes.items()})\n",
    "\n",
    "#df.loc[0] = [1, \"Alice\", 30, 50000.0, True]\n",
    "new_row = pd.DataFrame([[2, \"Bob\", 25, 45000.0, False]], columns=df.columns)\n",
    "#df = pd.concat([df, new_row], ignore_index=True)\n",
    "# Display the DataFrame\n",
    "print(df.dtypes)\n",
    "print(df)"
   ]
  },
  {
   "cell_type": "markdown",
   "metadata": {},
   "source": [
    "uint16: 0 à 2**16-1\n",
    "\n",
    "uint32: 0 à 2**32-1\n",
    "\n",
    "uint64: 0 à 2**64-1\n",
    "\n",
    "int64: -2^63 à 2^63-1"
   ]
  },
  {
   "cell_type": "code",
   "execution_count": null,
   "metadata": {},
   "outputs": [
    {
     "name": "stdout",
     "output_type": "stream",
     "text": [
      "2**8 = 256\n",
      "2**16 = 65536\n",
      "2**32 = 4294967296\n",
      "2**64 = 18446744073709551616\n"
     ]
    }
   ],
   "source": [
    "for exp in (8,16,32,64):\n",
    "    print(f\"2**{exp} = {2**exp}\")\n",
    "    \n",
    "\"\"\"\n",
    "name: object/string (same size) 8\n",
    "size: int64                     8\n",
    "\"\"\""
   ]
  },
  {
   "cell_type": "code",
   "execution_count": null,
   "metadata": {},
   "outputs": [
    {
     "data": {
      "text/plain": [
       "Index     8\n",
       "a         8\n",
       "b        60\n",
       "dtype: int64"
      ]
     },
     "execution_count": 16,
     "metadata": {},
     "output_type": "execute_result"
    }
   ],
   "source": [
    "df3=pd.DataFrame(columns=(\"a\",\"b\"))\n",
    "df3.loc[0]=[23,\"CDs\"]\n",
    "df3.memory_usage(deep=True)\n",
    "\"\"\"\n",
    "wtf, index takes less place when doing this than the first one\n",
    "\"\"\""
   ]
  },
  {
   "cell_type": "code",
   "execution_count": 80,
   "metadata": {},
   "outputs": [
    {
     "data": {
      "text/plain": [
       "49"
      ]
     },
     "execution_count": 80,
     "metadata": {},
     "output_type": "execute_result"
    }
   ],
   "source": [
    "import sys\n",
    "sys.getsizeof(\"\")"
   ]
  },
  {
   "cell_type": "code",
   "execution_count": 47,
   "metadata": {},
   "outputs": [
    {
     "name": "stdout",
     "output_type": "stream",
     "text": [
      "In dataframe 56\n",
      "In POO object/string for col name 149\n"
     ]
    },
    {
     "data": {
      "text/plain": [
       "\"\\nOk du coup ça me fait env 200 bytes par item\\n200 * 250'000 = 5'000'000 bytes = 5 MB \\n\""
      ]
     },
     "execution_count": 47,
     "metadata": {},
     "output_type": "execute_result"
    }
   ],
   "source": [
    "a=8+8+8+8+8+8+8 # in the dataframe\n",
    "b=49+100\n",
    "print(\"In dataframe\",a)\n",
    "print(\"In POO object/string for col name\",b)\n",
    "\n",
    "\n",
    "\"\"\"\n",
    "Ok du coup ça me fait env 200 bytes par item\n",
    "200 * 250'000 = 5'000'000 bytes = 5 MB \n",
    "\"\"\""
   ]
  },
  {
   "cell_type": "code",
   "execution_count": 81,
   "metadata": {},
   "outputs": [
    {
     "data": {
      "text/plain": [
       "45"
      ]
     },
     "execution_count": 81,
     "metadata": {},
     "output_type": "execute_result"
    }
   ],
   "source": [
    "len(\"coding/files-timeline/timeline/2025-02-01.csv\")"
   ]
  },
  {
   "cell_type": "code",
   "execution_count": null,
   "metadata": {},
   "outputs": [
    {
     "name": "stdout",
     "output_type": "stream",
     "text": [
      "10000000049\n"
     ]
    },
    {
     "ename": "",
     "evalue": "",
     "output_type": "error",
     "traceback": [
      "\u001b[1;31mThe Kernel crashed while executing code in the current cell or a previous cell. \n",
      "\u001b[1;31mPlease review the code in the cell(s) to identify a possible cause of the failure. \n",
      "\u001b[1;31mClick <a href='https://aka.ms/vscodeJupyterKernelCrash'>here</a> for more info. \n",
      "\u001b[1;31mView Jupyter <a href='command:jupyter.viewOutput'>log</a> for further details."
     ]
    }
   ],
   "source": [
    "import sys\n",
    "\n",
    "\n",
    "# Example: Creating a string of 37.5 MB\n",
    "s=\"A\"*int(1e11)\n",
    "\n",
    "print(sys.getsizeof(s))\n"
   ]
  },
  {
   "cell_type": "code",
   "execution_count": 101,
   "metadata": {},
   "outputs": [],
   "source": [
    "with open(\"test.txt\",\"w\") as f:\n",
    "    f.write(s)"
   ]
  },
  {
   "cell_type": "code",
   "execution_count": 58,
   "metadata": {},
   "outputs": [
    {
     "ename": "FileNotFoundError",
     "evalue": "[Errno 2] No such file or directory: ''",
     "output_type": "error",
     "traceback": [
      "\u001b[0;31m---------------------------------------------------------------------------\u001b[0m",
      "\u001b[0;31mFileNotFoundError\u001b[0m                         Traceback (most recent call last)",
      "Cell \u001b[0;32mIn[58], line 2\u001b[0m\n\u001b[1;32m      1\u001b[0m \u001b[38;5;28;01mimport\u001b[39;00m \u001b[38;5;21;01mos\u001b[39;00m\n\u001b[0;32m----> 2\u001b[0m \u001b[43mos\u001b[49m\u001b[38;5;241;43m.\u001b[39;49m\u001b[43mstat\u001b[49m\u001b[43m(\u001b[49m\u001b[38;5;124;43m\"\u001b[39;49m\u001b[38;5;124;43m\"\u001b[39;49m\u001b[43m)\u001b[49m\n\u001b[1;32m      3\u001b[0m os\u001b[38;5;241m.\u001b[39mpath\u001b[38;5;241m.\u001b[39mjoin(\u001b[38;5;124m\"\u001b[39m\u001b[38;5;124m\"\u001b[39m,\u001b[38;5;124m\"\u001b[39m\u001b[38;5;124ma\u001b[39m\u001b[38;5;124m\"\u001b[39m)\n",
      "\u001b[0;31mFileNotFoundError\u001b[0m: [Errno 2] No such file or directory: ''"
     ]
    }
   ],
   "source": [
    "import os\n",
    "os.stat(\"\")\n",
    "os.path.join(\"\",\"a\")"
   ]
  },
  {
   "cell_type": "code",
   "execution_count": 55,
   "metadata": {},
   "outputs": [
    {
     "data": {
      "text/plain": [
       "False"
      ]
     },
     "execution_count": 55,
     "metadata": {},
     "output_type": "execute_result"
    }
   ],
   "source": [
    "#import stat\n",
    "#stat.S_ISDIR(\"a\")\n",
    "os.path.isfile(\"d\")"
   ]
  },
  {
   "cell_type": "code",
   "execution_count": 51,
   "metadata": {},
   "outputs": [],
   "source": [
    "a=b=0\n"
   ]
  },
  {
   "cell_type": "code",
   "execution_count": 69,
   "metadata": {},
   "outputs": [],
   "source": [
    "with open(\"test.txt\",\"w\") as f:\n",
    "    f.write(\"a\"*999499)\n"
   ]
  },
  {
   "cell_type": "code",
   "execution_count": 32,
   "metadata": {},
   "outputs": [],
   "source": [
    "class Mydf(pd.DataFrame):pass\n",
    "\n",
    "df=Mydf({\"a\":[1,0,1],\"b\":[0,1,2]})"
   ]
  },
  {
   "cell_type": "code",
   "execution_count": null,
   "metadata": {},
   "outputs": [
    {
     "data": {
      "text/plain": [
       "(1, 2, 3, 4)"
      ]
     },
     "execution_count": 79,
     "metadata": {},
     "output_type": "execute_result"
    }
   ],
   "source": [
    "import datetime\n",
    "pd.to_datetime(1739027130.0580742,unit='s')\n",
    "[1]"
   ]
  },
  {
   "cell_type": "code",
   "execution_count": null,
   "metadata": {},
   "outputs": [
    {
     "name": "stdout",
     "output_type": "stream",
     "text": [
      "<class '__main__.Mydf'>\n"
     ]
    }
   ],
   "source": [
    "import pandas as pd\n",
    "df1 = pd.({\"a\":(1,2,3), \"b\":(\"ABC\",\"DEF\",\"GHI\"),\"c\":(\"JKL\",\"JKL\",\"PQR\")})\n",
    "#df2=df[::-1]\n",
    "#df2=df2.reset_index(drop=True)\n",
    "df.a-=1\n",
    "print(type(df))"
   ]
  },
  {
   "cell_type": "code",
   "execution_count": 59,
   "metadata": {},
   "outputs": [],
   "source": [
    "df = pd.read_csv(\"db.csv\")\n",
    "a=df.loc[0]"
   ]
  },
  {
   "cell_type": "code",
   "execution_count": 68,
   "metadata": {},
   "outputs": [],
   "source": [
    "a=\"\""
   ]
  },
  {
   "cell_type": "code",
   "execution_count": null,
   "metadata": {},
   "outputs": [
    {
     "name": "stdout",
     "output_type": "stream",
     "text": [
      "21.1 ns ± 0.166 ns per loop (mean ± std. dev. of 7 runs, 10,000,000 loops each)\n"
     ]
    }
   ],
   "source": [
    "%%timeit\n",
    "not a # a bit faster than a==0 and a==\"\", perfect !"
   ]
  },
  {
   "cell_type": "code",
   "execution_count": 99,
   "metadata": {},
   "outputs": [
    {
     "data": {
      "text/html": [
       "<div>\n",
       "<style scoped>\n",
       "    .dataframe tbody tr th:only-of-type {\n",
       "        vertical-align: middle;\n",
       "    }\n",
       "\n",
       "    .dataframe tbody tr th {\n",
       "        vertical-align: top;\n",
       "    }\n",
       "\n",
       "    .dataframe thead th {\n",
       "        text-align: right;\n",
       "    }\n",
       "</style>\n",
       "<table border=\"1\" class=\"dataframe\">\n",
       "  <thead>\n",
       "    <tr style=\"text-align: right;\">\n",
       "      <th></th>\n",
       "      <th>A</th>\n",
       "      <th>B</th>\n",
       "    </tr>\n",
       "  </thead>\n",
       "  <tbody>\n",
       "    <tr>\n",
       "      <th>0</th>\n",
       "      <td>1</td>\n",
       "      <td>4</td>\n",
       "    </tr>\n",
       "    <tr>\n",
       "      <th>1</th>\n",
       "      <td>2</td>\n",
       "      <td>5</td>\n",
       "    </tr>\n",
       "    <tr>\n",
       "      <th>2</th>\n",
       "      <td>3</td>\n",
       "      <td>6</td>\n",
       "    </tr>\n",
       "    <tr>\n",
       "      <th>3</th>\n",
       "      <td>4</td>\n",
       "      <td>7</td>\n",
       "    </tr>\n",
       "  </tbody>\n",
       "</table>\n",
       "</div>"
      ],
      "text/plain": [
       "   A  B\n",
       "0  1  4\n",
       "1  2  5\n",
       "2  3  6\n",
       "3  4  7"
      ]
     },
     "execution_count": 99,
     "metadata": {},
     "output_type": "execute_result"
    }
   ],
   "source": [
    "class MyDataFrame(pd.DataFrame):\n",
    "\n",
    "\n",
    "    def to_pandas(self):\n",
    "        \"\"\"Convert to a normal pandas DataFrame\"\"\"\n",
    "        return pd.DataFrame(self)\n",
    "\n",
    "# Example usage\n",
    "dde=MyDataFrame({'A': [1, 2, 3,4], 'B': [4, 5, 6,7]})\n",
    "#df3  # Now it will work in VS Code Data Viewer!\n",
    "dde"
   ]
  },
  {
   "cell_type": "code",
   "execution_count": 100,
   "metadata": {},
   "outputs": [],
   "source": [
    "dde.loc[0].A=2"
   ]
  }
 ],
 "metadata": {
  "kernelspec": {
   "display_name": "Python 3",
   "language": "python",
   "name": "python3"
  },
  "language_info": {
   "codemirror_mode": {
    "name": "ipython",
    "version": 3
   },
   "file_extension": ".py",
   "mimetype": "text/x-python",
   "name": "python",
   "nbconvert_exporter": "python",
   "pygments_lexer": "ipython3",
   "version": "3.11.8"
  }
 },
 "nbformat": 4,
 "nbformat_minor": 2
}
