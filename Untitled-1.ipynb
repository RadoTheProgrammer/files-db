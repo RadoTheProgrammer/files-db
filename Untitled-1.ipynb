{
 "cells": [
  {
   "cell_type": "code",
   "execution_count": 2,
   "metadata": {},
   "outputs": [
    {
     "name": "stdout",
     "output_type": "stream",
     "text": [
      "A    0    1\\n1    2\\n2    3\\nName: A, dtype: int64\n",
      "B    0    4\\n1    5\\n2    6\\nName: B, dtype: int64\n",
      "dtype: object\n",
      "0    A    1\\nB    4\\nName: 0, dtype: int64\n",
      "1    A    2\\nB    5\\nName: 1, dtype: int64\n",
      "2    A    3\\nB    6\\nName: 2, dtype: int64\n",
      "dtype: object\n"
     ]
    }
   ],
   "source": [
    "import pandas as pd\n",
    "\n",
    "# Example DataFrame\n",
    "data = {\n",
    "    'A': [1, 2, 3],\n",
    "    'B': [4, 5, 6]\n",
    "}\n",
    "df = pd.DataFrame(data)\n",
    "\n",
    "# Apply a function to each column\n",
    "df_column_sum = df.apply(str, axis=0)\n",
    "\n",
    "# Apply a function to each row\n",
    "df_row_sum = df.apply(str, axis=1)\n",
    "\n",
    "print(df_column_sum)\n",
    "print(df_row_sum)"
   ]
  },
  {
   "cell_type": "code",
   "execution_count": 7,
   "metadata": {},
   "outputs": [
    {
     "data": {
      "text/plain": [
       "True"
      ]
     },
     "execution_count": 7,
     "metadata": {},
     "output_type": "execute_result"
    }
   ],
   "source": [
    "3 in df.A.values"
   ]
  },
  {
   "cell_type": "code",
   "execution_count": 10,
   "metadata": {},
   "outputs": [
    {
     "data": {
      "text/plain": [
       "A     6\n",
       "B    15\n",
       "dtype: int64"
      ]
     },
     "execution_count": 10,
     "metadata": {},
     "output_type": "execute_result"
    }
   ],
   "source": [
    "df.apply(sum)\n"
   ]
  },
  {
   "cell_type": "code",
   "execution_count": 11,
   "metadata": {},
   "outputs": [
    {
     "data": {
      "application/vnd.microsoft.datawrangler.viewer.v0+json": {
       "columns": [
        {
         "name": "index",
         "rawType": "int64",
         "type": "integer"
        },
        {
         "name": "A",
         "rawType": "int64",
         "type": "integer"
        },
        {
         "name": "B",
         "rawType": "int64",
         "type": "integer"
        }
       ],
       "conversionMethod": "pd.DataFrame",
       "ref": "c844d8ea-cfc1-40ec-9884-9311b341df8a",
       "rows": [
        [
         "0",
         "2",
         "5"
        ],
        [
         "1",
         "3",
         "6"
        ],
        [
         "2",
         "4",
         "7"
        ]
       ],
       "shape": {
        "columns": 2,
        "rows": 3
       }
      },
      "text/html": [
       "<div>\n",
       "<style scoped>\n",
       "    .dataframe tbody tr th:only-of-type {\n",
       "        vertical-align: middle;\n",
       "    }\n",
       "\n",
       "    .dataframe tbody tr th {\n",
       "        vertical-align: top;\n",
       "    }\n",
       "\n",
       "    .dataframe thead th {\n",
       "        text-align: right;\n",
       "    }\n",
       "</style>\n",
       "<table border=\"1\" class=\"dataframe\">\n",
       "  <thead>\n",
       "    <tr style=\"text-align: right;\">\n",
       "      <th></th>\n",
       "      <th>A</th>\n",
       "      <th>B</th>\n",
       "    </tr>\n",
       "  </thead>\n",
       "  <tbody>\n",
       "    <tr>\n",
       "      <th>0</th>\n",
       "      <td>2</td>\n",
       "      <td>5</td>\n",
       "    </tr>\n",
       "    <tr>\n",
       "      <th>1</th>\n",
       "      <td>3</td>\n",
       "      <td>6</td>\n",
       "    </tr>\n",
       "    <tr>\n",
       "      <th>2</th>\n",
       "      <td>4</td>\n",
       "      <td>7</td>\n",
       "    </tr>\n",
       "  </tbody>\n",
       "</table>\n",
       "</div>"
      ],
      "text/plain": [
       "   A  B\n",
       "0  2  5\n",
       "1  3  6\n",
       "2  4  7"
      ]
     },
     "execution_count": 11,
     "metadata": {},
     "output_type": "execute_result"
    }
   ],
   "source": [
    "df.map(lambda x: x + 1)"
   ]
  },
  {
   "cell_type": "code",
   "execution_count": 16,
   "metadata": {},
   "outputs": [
    {
     "data": {
      "text/plain": [
       "pandas.core.series.Series"
      ]
     },
     "execution_count": 16,
     "metadata": {},
     "output_type": "execute_result"
    }
   ],
   "source": [
    "type(df.loc[0])"
   ]
  },
  {
   "cell_type": "code",
   "execution_count": 17,
   "metadata": {},
   "outputs": [
    {
     "data": {
      "text/plain": [
       "pandas.core.series.Series"
      ]
     },
     "execution_count": 17,
     "metadata": {},
     "output_type": "execute_result"
    }
   ],
   "source": [
    "type(df.A)\n",
    "\n"
   ]
  },
  {
   "cell_type": "code",
   "execution_count": null,
   "metadata": {},
   "outputs": [
    {
     "data": {
      "text/plain": [
       "0    2\n",
       "1    3\n",
       "2    4\n",
       "Name: A, dtype: int64"
      ]
     },
     "execution_count": 19,
     "metadata": {},
     "output_type": "execute_result"
    }
   ],
   "source": [
    "df.map()"
   ]
  },
  {
   "cell_type": "code",
   "execution_count": 1,
   "metadata": {},
   "outputs": [
    {
     "data": {
      "text/plain": [
       "'A'"
      ]
     },
     "execution_count": 1,
     "metadata": {},
     "output_type": "execute_result"
    }
   ],
   "source": [
    "cols = [\"A\",\"B\",\"C\",\"D\"]\n",
    "cols.pop(0)"
   ]
  },
  {
   "cell_type": "code",
   "execution_count": 7,
   "metadata": {},
   "outputs": [
    {
     "data": {
      "application/vnd.microsoft.datawrangler.viewer.v0+json": {
       "columns": [
        {
         "name": "index",
         "rawType": "int64",
         "type": "integer"
        },
        {
         "name": "name",
         "rawType": "object",
         "type": "unknown"
        },
        {
         "name": "size",
         "rawType": "float64",
         "type": "float"
        },
        {
         "name": "n",
         "rawType": "float64",
         "type": "float"
        },
        {
         "name": "ctime",
         "rawType": "object",
         "type": "unknown"
        },
        {
         "name": "mtime",
         "rawType": "object",
         "type": "unknown"
        },
        {
         "name": "atime",
         "rawType": "object",
         "type": "unknown"
        },
        {
         "name": "level",
         "rawType": "float64",
         "type": "float"
        }
       ],
       "ref": "5e7ef49d-8d9c-4093-a737-cd61f1867d07",
       "rows": [
        [
         "0",
         ".",
         "26287654111.0",
         "247639.0",
         "2024-10-23 13:40:53",
         "2025-02-09 10:16:40",
         "2025-02-09 10:16:41",
         "0.0"
        ],
        [
         "1",
         "reflection",
         "6244.0",
         "2.0",
         "2025-02-01 11:56:58",
         "2025-02-01 15:22:27",
         "2025-02-01 15:22:32",
         "1.0"
        ],
        [
         "2",
         "reflection/.DS_Store",
         "6148.0",
         "1.0",
         "2025-02-01 15:22:08",
         "2025-02-01 15:22:50",
         "2025-02-09 11:57:33",
         "2.0"
        ],
        [
         "3",
         ".849C9593-D756-4E56-8D6E-42412F2A707B",
         "63.0",
         "1.0",
         "2024-10-08 17:43:50",
         "2025-02-09 10:16:40",
         "2024-10-23 13:41:00",
         "1.0"
        ],
        [
         "4",
         "Attachments",
         "64.0",
         "1.0",
         "2025-02-05 17:25:04",
         "2025-02-05 17:25:04",
         "2025-02-05 17:25:10",
         "1.0"
        ],
        [
         "5",
         "coding",
         "61163716.0",
         "303.0",
         "2025-02-01 11:50:12",
         "2025-02-08 12:16:56",
         "2025-02-08 12:16:57",
         "1.0"
        ],
        [
         "6",
         "coding/files-timeline",
         "47799172.0",
         "195.0",
         "2025-02-07 18:01:48",
         "2025-02-09 16:42:58",
         "2025-02-09 16:42:58",
         "2.0"
        ],
        [
         "7",
         "coding/files-timeline/db-all.csv",
         "44634432.0",
         "1.0",
         "2025-02-09 16:42:57",
         "2025-02-09 16:43:00",
         "2025-02-09 16:43:04",
         "3.0"
        ],
        [
         "8",
         "coding/files-timeline/test.ipynb",
         "30650.0",
         "1.0",
         "2025-02-08 11:34:54",
         "2025-02-09 16:19:15",
         "2025-02-09 16:19:15",
         "3.0"
        ],
        [
         "9",
         "coding/files-timeline/main.py",
         "6031.0",
         "1.0",
         "2025-02-07 18:02:26",
         "2025-02-09 16:31:14",
         "2025-02-09 16:31:16",
         "3.0"
        ],
        [
         "10",
         "coding/files-timeline/.git",
         "2080024.0",
         "181.0",
         "2025-02-08 14:52:57",
         "2025-02-09 16:20:44",
         "2025-02-09 16:20:44",
         "3.0"
        ],
        [
         "11",
         "coding/files-timeline/.git/FETCH_HEAD",
         "0.0",
         "1.0",
         "2025-02-08 14:52:57",
         "2025-02-09 16:43:59",
         "2025-02-08 14:52:57",
         "4.0"
        ],
        [
         "12",
         "coding/files-timeline/.git/COMMIT_EDITMSG",
         "21.0",
         "1.0",
         "2025-02-08 14:53:26",
         "2025-02-09 16:20:44",
         "2025-02-09 16:20:44",
         "4.0"
        ],
        [
         "13",
         "coding/files-timeline/.git/index",
         "950.0",
         "1.0",
         "2025-02-09 16:20:44",
         "2025-02-09 16:20:44",
         "2025-02-09 16:44:12",
         "4.0"
        ],
        [
         "14",
         "coding/files-timeline/.git/refs",
         "329.0",
         "4.0",
         "2025-02-08 14:52:57",
         "2025-02-08 14:52:59",
         "2025-02-08 14:53:10",
         "4.0"
        ],
        [
         "15",
         "coding/files-timeline/.git/refs/tags",
         "64.0",
         "1.0",
         "2025-02-08 14:52:57",
         "2025-02-08 14:52:57",
         "2025-02-08 14:52:57",
         "5.0"
        ],
        [
         "16",
         "coding/files-timeline/.git/refs/heads",
         "137.0",
         "2.0",
         "2025-02-08 14:52:57",
         "2025-02-09 16:20:45",
         "2025-02-09 16:20:51",
         "5.0"
        ],
        [
         "17",
         "coding/files-timeline/.git/refs/heads/main",
         "41.0",
         "1.0",
         "2025-02-09 16:20:44",
         "2025-02-09 16:20:44",
         "2025-02-09 16:20:44",
         "6.0"
        ],
        [
         "18",
         "coding/files-timeline/.git/hooks",
         "26339.0",
         "15.0",
         "2025-02-08 14:52:57",
         "2025-02-08 14:53:00",
         "2025-02-08 16:23:08",
         "4.0"
        ],
        [
         "19",
         "coding/files-timeline/.git/hooks/push-to-checkout.sample",
         "2783.0",
         "1.0",
         "2025-02-08 14:52:57",
         "2025-02-08 14:52:57",
         "2025-02-08 14:52:57",
         "5.0"
        ],
        [
         "20",
         "coding/files-timeline/.git/hooks/update.sample",
         "3650.0",
         "1.0",
         "2025-02-08 14:52:57",
         "2025-02-08 14:52:57",
         "2025-02-08 14:52:57",
         "5.0"
        ],
        [
         "21",
         "coding/files-timeline/.git/hooks/pre-push.sample",
         "1374.0",
         "1.0",
         "2025-02-08 14:52:57",
         "2025-02-08 14:52:57",
         "2025-02-08 14:52:57",
         "5.0"
        ],
        [
         "22",
         "coding/files-timeline/.git/hooks/pre-applypatch.sample",
         "424.0",
         "1.0",
         "2025-02-08 14:52:57",
         "2025-02-08 14:52:57",
         "2025-02-08 14:52:57",
         "5.0"
        ],
        [
         "23",
         "coding/files-timeline/.git/hooks/pre-merge-commit.sample",
         "416.0",
         "1.0",
         "2025-02-08 14:52:57",
         "2025-02-08 14:52:57",
         "2025-02-08 14:52:57",
         "5.0"
        ],
        [
         "24",
         "coding/files-timeline/.git/hooks/post-update.sample",
         "189.0",
         "1.0",
         "2025-02-08 14:52:57",
         "2025-02-08 14:52:57",
         "2025-02-08 14:52:57",
         "5.0"
        ],
        [
         "25",
         "coding/files-timeline/.git/hooks/prepare-commit-msg.sample",
         "1492.0",
         "1.0",
         "2025-02-08 14:52:57",
         "2025-02-08 14:52:57",
         "2025-02-08 14:52:57",
         "5.0"
        ],
        [
         "26",
         "coding/files-timeline/.git/hooks/pre-receive.sample",
         "544.0",
         "1.0",
         "2025-02-08 14:52:57",
         "2025-02-08 14:52:57",
         "2025-02-08 14:52:57",
         "5.0"
        ],
        [
         "27",
         "coding/files-timeline/.git/hooks/fsmonitor-watchman.sample",
         "4726.0",
         "1.0",
         "2025-02-08 14:52:57",
         "2025-02-08 14:52:57",
         "2025-02-08 14:52:57",
         "5.0"
        ],
        [
         "28",
         "coding/files-timeline/.git/hooks/applypatch-msg.sample",
         "478.0",
         "1.0",
         "2025-02-08 14:52:57",
         "2025-02-08 14:52:57",
         "2025-02-08 14:52:57",
         "5.0"
        ],
        [
         "29",
         "coding/files-timeline/.git/hooks/pre-commit.sample",
         "1649.0",
         "1.0",
         "2025-02-08 14:52:57",
         "2025-02-08 14:52:57",
         "2025-02-08 14:52:57",
         "5.0"
        ],
        [
         "30",
         "coding/files-timeline/.git/hooks/sendemail-validate.sample",
         "2308.0",
         "1.0",
         "2025-02-08 14:52:57",
         "2025-02-08 14:52:57",
         "2025-02-08 14:52:57",
         "5.0"
        ],
        [
         "31",
         "coding/files-timeline/.git/hooks/pre-rebase.sample",
         "4898.0",
         "1.0",
         "2025-02-08 14:52:57",
         "2025-02-08 14:52:57",
         "2025-02-08 14:52:57",
         "5.0"
        ],
        [
         "32",
         "coding/files-timeline/.git/hooks/commit-msg.sample",
         "896.0",
         "1.0",
         "2025-02-08 14:52:57",
         "2025-02-08 14:52:57",
         "2025-02-08 14:52:57",
         "5.0"
        ],
        [
         "33",
         "coding/files-timeline/.git/description",
         "73.0",
         "1.0",
         "2025-02-08 14:52:57",
         "2025-02-08 14:52:57",
         "2025-02-08 14:52:57",
         "4.0"
        ],
        [
         "34",
         "coding/files-timeline/.git/logs",
         "2918.0",
         "5.0",
         "2025-02-08 14:53:26",
         "2025-02-08 14:53:31",
         "2025-02-08 16:23:08",
         "4.0"
        ],
        [
         "35",
         "coding/files-timeline/.git/logs/refs",
         "1491.0",
         "3.0",
         "2025-02-08 14:53:26",
         "2025-02-08 14:53:31",
         "2025-02-08 16:23:08",
         "5.0"
        ],
        [
         "36",
         "coding/files-timeline/.git/logs/refs/heads",
         "1395.0",
         "2.0",
         "2025-02-08 14:53:26",
         "2025-02-08 14:53:31",
         "2025-02-08 16:23:08",
         "6.0"
        ],
        [
         "37",
         "coding/files-timeline/.git/logs/refs/heads/main",
         "1299.0",
         "1.0",
         "2025-02-08 14:53:26",
         "2025-02-09 16:20:44",
         "2025-02-09 10:42:12",
         "7.0"
        ],
        [
         "38",
         "coding/files-timeline/.git/logs/HEAD",
         "1299.0",
         "1.0",
         "2025-02-08 14:53:26",
         "2025-02-09 16:20:44",
         "2025-02-08 14:53:26",
         "5.0"
        ],
        [
         "39",
         "coding/files-timeline/.git/info",
         "336.0",
         "2.0",
         "2025-02-08 14:52:57",
         "2025-02-08 14:53:00",
         "2025-02-08 16:22:37",
         "4.0"
        ],
        [
         "40",
         "coding/files-timeline/.git/info/exclude",
         "240.0",
         "1.0",
         "2025-02-08 14:52:57",
         "2025-02-08 14:52:57",
         "2025-02-08 14:52:57",
         "5.0"
        ],
        [
         "41",
         "coding/files-timeline/.git/HEAD",
         "21.0",
         "1.0",
         "2025-02-08 14:52:57",
         "2025-02-08 14:52:57",
         "2025-02-08 14:52:57",
         "4.0"
        ],
        [
         "42",
         "coding/files-timeline/.git/objects",
         "2048484.0",
         "148.0",
         "2025-02-08 14:52:57",
         "2025-02-09 16:43:59",
         "2025-02-09 16:44:14",
         "4.0"
        ],
        [
         "43",
         "coding/files-timeline/.git/objects/25",
         "193.0",
         "2.0",
         "2025-02-08 14:53:15",
         "2025-02-08 14:53:16",
         "2025-02-08 16:23:08",
         "5.0"
        ],
        [
         "44",
         "coding/files-timeline/.git/objects/25/b9d26b42ca28dab0a5f33e887baf54776e9614",
         "97.0",
         "1.0",
         "2025-02-08 14:53:15",
         "2025-02-08 14:53:15",
         "2025-02-08 14:53:15",
         "6.0"
        ],
        [
         "45",
         "coding/files-timeline/.git/objects/2e",
         "112.0",
         "2.0",
         "2025-02-08 14:53:10",
         "2025-02-08 14:53:13",
         "2025-02-08 16:23:08",
         "5.0"
        ],
        [
         "46",
         "coding/files-timeline/.git/objects/2e/65efe2a145dda7ee51d1741299f848e5bf752e",
         "16.0",
         "1.0",
         "2025-02-08 14:53:10",
         "2025-02-08 14:53:10",
         "2025-02-08 14:53:10",
         "6.0"
        ],
        [
         "47",
         "coding/files-timeline/.git/objects/1c",
         "1217.0",
         "2.0",
         "2025-02-08 14:53:10",
         "2025-02-08 14:53:13",
         "2025-02-08 15:46:01",
         "5.0"
        ],
        [
         "48",
         "coding/files-timeline/.git/objects/1c/3763a4f2a6a186c6b474f20aed3f89619be8dd",
         "1121.0",
         "1.0",
         "2025-02-08 14:53:10",
         "2025-02-08 14:53:10",
         "2025-02-09 16:31:14",
         "6.0"
        ],
        [
         "49",
         "coding/files-timeline/.git/objects/76",
         "1548.0",
         "2.0",
         "2025-02-09 11:00:20",
         "2025-02-09 11:00:21",
         "2025-02-09 11:19:24",
         "5.0"
        ]
       ],
       "shape": {
        "columns": 7,
        "rows": 247640
       }
      },
      "text/html": [
       "<div>\n",
       "<style scoped>\n",
       "    .dataframe tbody tr th:only-of-type {\n",
       "        vertical-align: middle;\n",
       "    }\n",
       "\n",
       "    .dataframe tbody tr th {\n",
       "        vertical-align: top;\n",
       "    }\n",
       "\n",
       "    .dataframe thead th {\n",
       "        text-align: right;\n",
       "    }\n",
       "</style>\n",
       "<table border=\"1\" class=\"dataframe\">\n",
       "  <thead>\n",
       "    <tr style=\"text-align: right;\">\n",
       "      <th></th>\n",
       "      <th>name</th>\n",
       "      <th>size</th>\n",
       "      <th>n</th>\n",
       "      <th>ctime</th>\n",
       "      <th>mtime</th>\n",
       "      <th>atime</th>\n",
       "      <th>level</th>\n",
       "    </tr>\n",
       "  </thead>\n",
       "  <tbody>\n",
       "    <tr>\n",
       "      <th>0</th>\n",
       "      <td>.</td>\n",
       "      <td>2.628765e+10</td>\n",
       "      <td>247639.0</td>\n",
       "      <td>2024-10-23 13:40:53</td>\n",
       "      <td>2025-02-09 10:16:40</td>\n",
       "      <td>2025-02-09 10:16:41</td>\n",
       "      <td>0.0</td>\n",
       "    </tr>\n",
       "    <tr>\n",
       "      <th>1</th>\n",
       "      <td>reflection</td>\n",
       "      <td>6.244000e+03</td>\n",
       "      <td>2.0</td>\n",
       "      <td>2025-02-01 11:56:58</td>\n",
       "      <td>2025-02-01 15:22:27</td>\n",
       "      <td>2025-02-01 15:22:32</td>\n",
       "      <td>1.0</td>\n",
       "    </tr>\n",
       "    <tr>\n",
       "      <th>2</th>\n",
       "      <td>reflection/.DS_Store</td>\n",
       "      <td>6.148000e+03</td>\n",
       "      <td>1.0</td>\n",
       "      <td>2025-02-01 15:22:08</td>\n",
       "      <td>2025-02-01 15:22:50</td>\n",
       "      <td>2025-02-09 11:57:33</td>\n",
       "      <td>2.0</td>\n",
       "    </tr>\n",
       "    <tr>\n",
       "      <th>3</th>\n",
       "      <td>.849C9593-D756-4E56-8D6E-42412F2A707B</td>\n",
       "      <td>6.300000e+01</td>\n",
       "      <td>1.0</td>\n",
       "      <td>2024-10-08 17:43:50</td>\n",
       "      <td>2025-02-09 10:16:40</td>\n",
       "      <td>2024-10-23 13:41:00</td>\n",
       "      <td>1.0</td>\n",
       "    </tr>\n",
       "    <tr>\n",
       "      <th>4</th>\n",
       "      <td>Attachments</td>\n",
       "      <td>6.400000e+01</td>\n",
       "      <td>1.0</td>\n",
       "      <td>2025-02-05 17:25:04</td>\n",
       "      <td>2025-02-05 17:25:04</td>\n",
       "      <td>2025-02-05 17:25:10</td>\n",
       "      <td>1.0</td>\n",
       "    </tr>\n",
       "    <tr>\n",
       "      <th>...</th>\n",
       "      <td>...</td>\n",
       "      <td>...</td>\n",
       "      <td>...</td>\n",
       "      <td>...</td>\n",
       "      <td>...</td>\n",
       "      <td>...</td>\n",
       "      <td>...</td>\n",
       "    </tr>\n",
       "    <tr>\n",
       "      <th>247635</th>\n",
       "      <td>_autres/chatgpt/gptecran/gptecran.txt</td>\n",
       "      <td>1.776300e+04</td>\n",
       "      <td>1.0</td>\n",
       "      <td>2023-05-13 09:56:26</td>\n",
       "      <td>2023-05-13 10:25:06</td>\n",
       "      <td>2024-12-26 10:29:01</td>\n",
       "      <td>4.0</td>\n",
       "    </tr>\n",
       "    <tr>\n",
       "      <th>247636</th>\n",
       "      <td>_autres/chatgpt/gptecran/gptecransynthexe.txt</td>\n",
       "      <td>3.093000e+03</td>\n",
       "      <td>1.0</td>\n",
       "      <td>2023-05-13 09:56:34</td>\n",
       "      <td>2023-05-13 10:38:22</td>\n",
       "      <td>2024-12-26 10:29:01</td>\n",
       "      <td>4.0</td>\n",
       "    </tr>\n",
       "    <tr>\n",
       "      <th>247637</th>\n",
       "      <td>_autres/chatgpt/gptecran/gptecran.pages</td>\n",
       "      <td>1.957980e+05</td>\n",
       "      <td>1.0</td>\n",
       "      <td>2023-05-13 10:48:00</td>\n",
       "      <td>2023-05-13 12:53:24</td>\n",
       "      <td>2024-10-23 13:55:11</td>\n",
       "      <td>4.0</td>\n",
       "    </tr>\n",
       "    <tr>\n",
       "      <th>247638</th>\n",
       "      <td>_autres/.DS_Store</td>\n",
       "      <td>1.024400e+04</td>\n",
       "      <td>1.0</td>\n",
       "      <td>2025-02-01 12:00:16</td>\n",
       "      <td>2025-02-09 11:57:34</td>\n",
       "      <td>2025-02-09 11:57:34</td>\n",
       "      <td>2.0</td>\n",
       "    </tr>\n",
       "    <tr>\n",
       "      <th>247639</th>\n",
       "      <td>.DS_Store</td>\n",
       "      <td>1.024400e+04</td>\n",
       "      <td>1.0</td>\n",
       "      <td>2024-10-23 13:41:42</td>\n",
       "      <td>2025-02-08 10:57:21</td>\n",
       "      <td>2025-02-09 10:16:26</td>\n",
       "      <td>1.0</td>\n",
       "    </tr>\n",
       "  </tbody>\n",
       "</table>\n",
       "<p>247640 rows × 7 columns</p>\n",
       "</div>"
      ],
      "text/plain": [
       "                                                 name          size         n  \\\n",
       "0                                                   .  2.628765e+10  247639.0   \n",
       "1                                          reflection  6.244000e+03       2.0   \n",
       "2                                reflection/.DS_Store  6.148000e+03       1.0   \n",
       "3               .849C9593-D756-4E56-8D6E-42412F2A707B  6.300000e+01       1.0   \n",
       "4                                         Attachments  6.400000e+01       1.0   \n",
       "...                                               ...           ...       ...   \n",
       "247635          _autres/chatgpt/gptecran/gptecran.txt  1.776300e+04       1.0   \n",
       "247636  _autres/chatgpt/gptecran/gptecransynthexe.txt  3.093000e+03       1.0   \n",
       "247637        _autres/chatgpt/gptecran/gptecran.pages  1.957980e+05       1.0   \n",
       "247638                              _autres/.DS_Store  1.024400e+04       1.0   \n",
       "247639                                      .DS_Store  1.024400e+04       1.0   \n",
       "\n",
       "                      ctime                mtime                atime  level  \n",
       "0       2024-10-23 13:40:53  2025-02-09 10:16:40  2025-02-09 10:16:41    0.0  \n",
       "1       2025-02-01 11:56:58  2025-02-01 15:22:27  2025-02-01 15:22:32    1.0  \n",
       "2       2025-02-01 15:22:08  2025-02-01 15:22:50  2025-02-09 11:57:33    2.0  \n",
       "3       2024-10-08 17:43:50  2025-02-09 10:16:40  2024-10-23 13:41:00    1.0  \n",
       "4       2025-02-05 17:25:04  2025-02-05 17:25:04  2025-02-05 17:25:10    1.0  \n",
       "...                     ...                  ...                  ...    ...  \n",
       "247635  2023-05-13 09:56:26  2023-05-13 10:25:06  2024-12-26 10:29:01    4.0  \n",
       "247636  2023-05-13 09:56:34  2023-05-13 10:38:22  2024-12-26 10:29:01    4.0  \n",
       "247637  2023-05-13 10:48:00  2023-05-13 12:53:24  2024-10-23 13:55:11    4.0  \n",
       "247638  2025-02-01 12:00:16  2025-02-09 11:57:34  2025-02-09 11:57:34    2.0  \n",
       "247639  2024-10-23 13:41:42  2025-02-08 10:57:21  2025-02-09 10:16:26    1.0  \n",
       "\n",
       "[247640 rows x 7 columns]"
      ]
     },
     "execution_count": 7,
     "metadata": {},
     "output_type": "execute_result"
    }
   ],
   "source": [
    "import pandas as pd\n",
    "\n",
    "# Try reading only the columns present in 'cols'\n",
    "\n",
    "\n",
    "df = pd.read_csv(\"db2.csv\")\n",
    "\n",
    "\n",
    "df"
   ]
  }
 ],
 "metadata": {
  "kernelspec": {
   "display_name": "Python 3",
   "language": "python",
   "name": "python3"
  },
  "language_info": {
   "codemirror_mode": {
    "name": "ipython",
    "version": 3
   },
   "file_extension": ".py",
   "mimetype": "text/x-python",
   "name": "python",
   "nbconvert_exporter": "python",
   "pygments_lexer": "ipython3",
   "version": "3.13.3"
  }
 },
 "nbformat": 4,
 "nbformat_minor": 2
}
